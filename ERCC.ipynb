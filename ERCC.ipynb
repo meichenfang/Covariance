{
 "cells": [
  {
   "cell_type": "markdown",
   "id": "0f857bb8",
   "metadata": {},
   "source": [
    "# Introductions"
   ]
  },
  {
   "cell_type": "code",
   "execution_count": 1,
   "id": "a7f9a61d",
   "metadata": {},
   "outputs": [],
   "source": [
    "import os\n",
    "os.environ[\"BLAS_NUM_THREADS\"] = \"1\" \n",
    "os.environ[\"OPENBLAS_NUM_THREADS\"] = \"1\" # \n",
    "\n",
    "import numpy as np\n",
    "import scipy.io as sio\n",
    "import pandas as pd\n",
    "import matplotlib.pyplot as plt\n",
    "import matplotlib\n",
    "import scanpy as sc\n",
    "import scvelo as scv\n",
    "from tqdm import tqdm\n",
    "\n",
    "import statsmodels.formula.api as sm\n",
    "from scipy.stats import poisson"
   ]
  },
  {
   "cell_type": "code",
   "execution_count": 2,
   "id": "db0d6b0c",
   "metadata": {},
   "outputs": [],
   "source": [
    "from multiprocessing import Pool\n",
    "\n",
    "def get_s(data):\n",
    "    gene_mask = (np.mean(data,axis=0)>0) & (np.var(data,axis=0)>0) \n",
    "    X = data[:,gene_mask]\n",
    "    n,p = X.shape\n",
    "    X_cov = np.cov(X,rowvar=False)\n",
    "    X_mean = np.mean(X,axis=0)\n",
    "    X_rho = X_cov/X_mean[:,None]/X_mean[None,:]\n",
    "    s = (np.sum(X_rho)-np.sum(np.diag(X_rho)))/((p-1)*p)\n",
    "    return s\n",
    "\n",
    "def bootstrap_s(X,B=10,cores=10):\n",
    "    n,p = X.shape\n",
    "    Input_args = []\n",
    "    for b in range(B):\n",
    "        sample_idx = np.random.choice(n,n,replace=True)\n",
    "        sample = X[sample_idx]\n",
    "        Input_args.append(sample)\n",
    "            \n",
    "    with Pool(cores) as pool:      \n",
    "        s = pool.map(get_s, Input_args, chunksize=1)\n",
    "\n",
    "    return s"
   ]
  },
  {
   "cell_type": "code",
   "execution_count": 3,
   "id": "04b6a8bf",
   "metadata": {},
   "outputs": [],
   "source": [
    "def CCC(y_pred, y_true):\n",
    "    # Pearson product-moment correlation coefficients\n",
    "    cor = np.corrcoef(y_true, y_pred)[0][1]\n",
    "    \n",
    "    # Mean\n",
    "    mean_true = np.mean(y_true)\n",
    "    mean_pred = np.mean(y_pred)\n",
    "    \n",
    "    # Variance\n",
    "    var_true = np.var(y_true)\n",
    "    var_pred = np.var(y_pred)\n",
    "    \n",
    "    # Standard deviation\n",
    "    sd_true = np.std(y_true)\n",
    "    sd_pred = np.std(y_pred)\n",
    "    \n",
    "    # Calculate CCC\n",
    "    numerator = 2 * cor * sd_true * sd_pred\n",
    "    denominator = var_true + var_pred + (mean_true - mean_pred)**2\n",
    "    \n",
    "    return numerator / denominator"
   ]
  },
  {
   "cell_type": "code",
   "execution_count": 4,
   "id": "5b31d363",
   "metadata": {},
   "outputs": [],
   "source": [
    "def select_genes(U,S,gene_names,mean_min=0.1,var_min=1):\n",
    "    gene_mask = (np.mean(S,axis=0)>0) & (np.mean(U,axis=0)>0) & (np.var(S,axis=0)>0) & (np.var(U,axis=0)>0)\n",
    "    s = S[:,gene_mask]\n",
    "    u = U[:,gene_mask]\n",
    "    gene_names = gene_names[gene_mask]\n",
    "    cov = np.cov(u,s,rowvar=False)\n",
    "    s_mean = np.mean(s,axis=0)\n",
    "    u_mean = np.mean(u,axis=0)\n",
    "    X_mean = np.append(u_mean,s_mean)\n",
    "    p = s.shape[1]\n",
    "    rho = cov/X_mean[:,None]/X_mean[None,:]\n",
    "    rho_s = rho[p:,p:]\n",
    "    rho_u = rho[:p,:p]\n",
    "    rho_us = rho[:p,p:]\n",
    "    s = (np.sum(rho_us)-np.sum(np.diag(rho_us)))/(p-1)/p\n",
    "    genes_mask = (s_mean>mean_min) & (u_mean>mean_min) & (np.abs(np.diag(rho_us)-s)>var_min)\n",
    "    return gene_names[genes_mask]"
   ]
  },
  {
   "cell_type": "markdown",
   "id": "0f76526d",
   "metadata": {},
   "source": [
    "# 10xv1"
   ]
  },
  {
   "cell_type": "code",
   "execution_count": 5,
   "id": "4682c076",
   "metadata": {},
   "outputs": [],
   "source": [
    "#!wget -P ./data https://cf.10xgenomics.com/samples/cell-exp/1.1.0/ercc/ercc_raw_gene_bc_matrices.tar.gz\n",
    "#!tar -xvf  ./data/ercc_raw_gene_bc_matrices.tar.gz --directory ./data\n",
    "#!mv ./data/matrices_mex/ ./data/ERCC_10xv1/\n",
    "#!mv ./data/ERCC_10xv1/ercc92 ./data/ERCC_10xv1/raw"
   ]
  },
  {
   "cell_type": "code",
   "execution_count": 6,
   "id": "e69fdc1b",
   "metadata": {},
   "outputs": [],
   "source": [
    "#!wget -P ./data https://cf.10xgenomics.com/samples/cell-exp/1.1.0/ercc/ercc_filtered_gene_bc_matrices.tar.gz\n",
    "#!tar -xvf  ./data/ercc_filtered_gene_bc_matrices.tar.gz --directory ./data\n",
    "#!mv ./data/filtered_matrices_mex/ercc92/ ./data/ERCC_10xv1/filtered/\n",
    "#!rm -r ./data/filtered_matrices_mex"
   ]
  },
  {
   "cell_type": "code",
   "execution_count": 7,
   "id": "807600a5",
   "metadata": {},
   "outputs": [],
   "source": [
    "datadir = './data/ERCC_10xv1/filtered/'"
   ]
  },
  {
   "cell_type": "code",
   "execution_count": 8,
   "id": "6866f7b4",
   "metadata": {},
   "outputs": [
    {
     "data": {
      "text/plain": [
       "(92, 1015)"
      ]
     },
     "execution_count": 8,
     "metadata": {},
     "output_type": "execute_result"
    }
   ],
   "source": [
    "ercc = sio.mmread(datadir+'matrix.mtx')\n",
    "ercc.shape"
   ]
  },
  {
   "cell_type": "code",
   "execution_count": 9,
   "id": "775c2fc2",
   "metadata": {},
   "outputs": [
    {
     "data": {
      "text/html": [
       "<div>\n",
       "<style scoped>\n",
       "    .dataframe tbody tr th:only-of-type {\n",
       "        vertical-align: middle;\n",
       "    }\n",
       "\n",
       "    .dataframe tbody tr th {\n",
       "        vertical-align: top;\n",
       "    }\n",
       "\n",
       "    .dataframe thead th {\n",
       "        text-align: right;\n",
       "    }\n",
       "</style>\n",
       "<table border=\"1\" class=\"dataframe\">\n",
       "  <thead>\n",
       "    <tr style=\"text-align: right;\">\n",
       "      <th></th>\n",
       "      <th>0</th>\n",
       "      <th>1</th>\n",
       "    </tr>\n",
       "  </thead>\n",
       "  <tbody>\n",
       "    <tr>\n",
       "      <th>0</th>\n",
       "      <td>ERCC-00002</td>\n",
       "      <td>ERCC-00002</td>\n",
       "    </tr>\n",
       "    <tr>\n",
       "      <th>1</th>\n",
       "      <td>ERCC-00003</td>\n",
       "      <td>ERCC-00003</td>\n",
       "    </tr>\n",
       "    <tr>\n",
       "      <th>2</th>\n",
       "      <td>ERCC-00004</td>\n",
       "      <td>ERCC-00004</td>\n",
       "    </tr>\n",
       "    <tr>\n",
       "      <th>3</th>\n",
       "      <td>ERCC-00009</td>\n",
       "      <td>ERCC-00009</td>\n",
       "    </tr>\n",
       "    <tr>\n",
       "      <th>4</th>\n",
       "      <td>ERCC-00012</td>\n",
       "      <td>ERCC-00012</td>\n",
       "    </tr>\n",
       "  </tbody>\n",
       "</table>\n",
       "</div>"
      ],
      "text/plain": [
       "            0           1\n",
       "0  ERCC-00002  ERCC-00002\n",
       "1  ERCC-00003  ERCC-00003\n",
       "2  ERCC-00004  ERCC-00004\n",
       "3  ERCC-00009  ERCC-00009\n",
       "4  ERCC-00012  ERCC-00012"
      ]
     },
     "execution_count": 9,
     "metadata": {},
     "output_type": "execute_result"
    }
   ],
   "source": [
    "genes = pd.read_csv(datadir+'genes.tsv',sep='\\t',header=None)\n",
    "genes.head()"
   ]
  },
  {
   "cell_type": "code",
   "execution_count": 10,
   "id": "8152aafa",
   "metadata": {},
   "outputs": [
    {
     "data": {
      "text/html": [
       "<div>\n",
       "<style scoped>\n",
       "    .dataframe tbody tr th:only-of-type {\n",
       "        vertical-align: middle;\n",
       "    }\n",
       "\n",
       "    .dataframe tbody tr th {\n",
       "        vertical-align: top;\n",
       "    }\n",
       "\n",
       "    .dataframe thead th {\n",
       "        text-align: right;\n",
       "    }\n",
       "</style>\n",
       "<table border=\"1\" class=\"dataframe\">\n",
       "  <thead>\n",
       "    <tr style=\"text-align: right;\">\n",
       "      <th></th>\n",
       "      <th>0</th>\n",
       "    </tr>\n",
       "  </thead>\n",
       "  <tbody>\n",
       "    <tr>\n",
       "      <th>0</th>\n",
       "      <td>AAACCGTGAAGCCT-1</td>\n",
       "    </tr>\n",
       "    <tr>\n",
       "      <th>1</th>\n",
       "      <td>AAACGCACTGCTGA-1</td>\n",
       "    </tr>\n",
       "    <tr>\n",
       "      <th>2</th>\n",
       "      <td>AAACTTGACCGAAT-1</td>\n",
       "    </tr>\n",
       "    <tr>\n",
       "      <th>3</th>\n",
       "      <td>AAAGACGAGGAAGC-1</td>\n",
       "    </tr>\n",
       "    <tr>\n",
       "      <th>4</th>\n",
       "      <td>AAAGACGATCCGAA-1</td>\n",
       "    </tr>\n",
       "  </tbody>\n",
       "</table>\n",
       "</div>"
      ],
      "text/plain": [
       "                  0\n",
       "0  AAACCGTGAAGCCT-1\n",
       "1  AAACGCACTGCTGA-1\n",
       "2  AAACTTGACCGAAT-1\n",
       "3  AAAGACGAGGAAGC-1\n",
       "4  AAAGACGATCCGAA-1"
      ]
     },
     "execution_count": 10,
     "metadata": {},
     "output_type": "execute_result"
    }
   ],
   "source": [
    "barcodes = pd.read_csv(datadir+'barcodes.tsv',sep='\\t',header=None)\n",
    "barcodes.head()"
   ]
  },
  {
   "cell_type": "code",
   "execution_count": 11,
   "id": "9c1a37ff",
   "metadata": {},
   "outputs": [
    {
     "data": {
      "text/plain": [
       "(1015, 92)"
      ]
     },
     "execution_count": 11,
     "metadata": {},
     "output_type": "execute_result"
    }
   ],
   "source": [
    "alldata = ercc.toarray().T\n",
    "alldata.shape"
   ]
  },
  {
   "cell_type": "code",
   "execution_count": 35,
   "id": "f17a5e1c",
   "metadata": {},
   "outputs": [
    {
     "data": {
      "text/plain": [
       "(1015, 92)"
      ]
     },
     "execution_count": 35,
     "metadata": {},
     "output_type": "execute_result"
    }
   ],
   "source": [
    "data = alldata[alldata.sum(1)>0]\n",
    "data.shape"
   ]
  },
  {
   "cell_type": "code",
   "execution_count": 13,
   "id": "7cf0391e",
   "metadata": {},
   "outputs": [
    {
     "name": "stdout",
     "output_type": "stream",
     "text": [
      "s = 0.06308284067958143\n"
     ]
    }
   ],
   "source": [
    "gene_mask = (np.mean(data,axis=0)>0) & (np.var(data,axis=0)>0) \n",
    "X = data[:,gene_mask]\n",
    "cov = np.cov(X,rowvar=False)\n",
    "X_bar = np.mean(X,axis=0)\n",
    "X_var = np.diag(cov)\n",
    "\n",
    "rho = cov/X_bar[:,None]/X_bar[None,:]\n",
    "s = (np.sum(rho)-np.sum(np.diag(rho)))/(len(rho)-1)/len(rho)\n",
    "print('s =',s)"
   ]
  },
  {
   "cell_type": "code",
   "execution_count": 14,
   "id": "603dc63f",
   "metadata": {},
   "outputs": [
    {
     "data": {
      "text/plain": [
       "<matplotlib.legend.Legend at 0x7f321607f730>"
      ]
     },
     "execution_count": 14,
     "metadata": {},
     "output_type": "execute_result"
    },
    {
     "data": {
      "image/png": "[encoded data removed]",
      "text/plain": [
       "<Figure size 432x288 with 1 Axes>"
      ]
     },
     "metadata": {
      "needs_background": "light"
     },
     "output_type": "display_data"
    }
   ],
   "source": [
    "matplotlib.rc('font', size=20)\n",
    "eta_0 = -1\n",
    "Ec = 0.071\n",
    "a = 1 + Ec * (s + 1) * (1 + eta_0)\n",
    "plt.axhline(y=s, c='gray',label='s='+str(np.around(s,3)))\n",
    "plt.scatter(X_bar, a/X_bar + s,c='r',alpha=1, s=10,label=r'$\\frac{1}{\\mu}$ + s')\n",
    "plt.scatter(X_bar, X_var/X_bar**2,c='k',alpha=1, s=10)\n",
    "plt.xlabel(r'$\\mu$',fontsize=24)\n",
    "plt.ylabel(r'$CV^2$',fontsize=24)\n",
    "plt.title(\"Pure RNA\",fontsize=28)\n",
    "plt.xscale('log')\n",
    "plt.yscale('log')\n",
    "plt.legend()"
   ]
  },
  {
   "cell_type": "code",
   "execution_count": 15,
   "id": "7054577d",
   "metadata": {},
   "outputs": [
    {
     "data": {
      "text/plain": [
       "<matplotlib.legend.Legend at 0x7f320dc5edc0>"
      ]
     },
     "execution_count": 15,
     "metadata": {},
     "output_type": "execute_result"
    },
    {
     "data": {
      "image/png": "[encoded data removed]",
      "text/plain": [
       "<Figure size 432x288 with 1 Axes>"
      ]
     },
     "metadata": {
      "needs_background": "light"
     },
     "output_type": "display_data"
    }
   ],
   "source": [
    "matplotlib.rc('font', size=20)\n",
    "eta_0 = -1\n",
    "Ec = 0.071\n",
    "a = 1 + Ec * (s + 1) * (1 + eta_0)\n",
    "plt.scatter(X_bar, a*X_bar + s*X_bar**2,c='r',alpha=1, s=10,label=r'$\\frac{1}{\\mu}$ + s')\n",
    "plt.scatter(X_bar, X_var,c='k',alpha=1, s=10)\n",
    "plt.xlabel(r'$\\mu$',fontsize=24)\n",
    "plt.ylabel(r'$CV^2$',fontsize=24)\n",
    "plt.title(\"Pure RNA\",fontsize=28)\n",
    "plt.xscale('log')\n",
    "plt.yscale('log')\n",
    "plt.legend()"
   ]
  },
  {
   "cell_type": "code",
   "execution_count": 17,
   "id": "f83965b0",
   "metadata": {},
   "outputs": [
    {
     "data": {
      "image/png": "[encoded data removed]",
      "text/plain": [
       "<Figure size 432x288 with 1 Axes>"
      ]
     },
     "metadata": {
      "needs_background": "light"
     },
     "output_type": "display_data"
    }
   ],
   "source": [
    "matplotlib.rc('font', size=20)\n",
    "eta_0 = -1\n",
    "Ec = 0.071\n",
    "a = 1 + Ec * (s + 1) * (1 + eta_0)\n",
    "plt.axhline(y=a, c='orange',label='s='+str(np.around(s,3)))\n",
    "plt.scatter(X_bar, X_var/X_bar-s*X_bar,c='k',alpha=1, s=0.1)\n",
    "\n",
    "\n",
    "plt.xlabel(r'$\\mu$',fontsize=24)\n",
    "plt.ylabel('Fano factor',fontsize=24)\n",
    "plt.title(\"Pure RNA\",fontsize=28)\n",
    "plt.xscale('log')\n",
    "plt.yscale('log')\n",
    "#plt.legend();"
   ]
  },
  {
   "cell_type": "markdown",
   "id": "5811e5d0",
   "metadata": {},
   "source": [
    "## droplets variance"
   ]
  },
  {
   "cell_type": "code",
   "execution_count": 18,
   "id": "78e23217",
   "metadata": {},
   "outputs": [
    {
     "data": {
      "text/plain": [
       "16579.0"
      ]
     },
     "execution_count": 18,
     "metadata": {},
     "output_type": "execute_result"
    }
   ],
   "source": [
    "data.sum(1).max()"
   ]
  },
  {
   "cell_type": "code",
   "execution_count": 19,
   "id": "438fb0d9",
   "metadata": {},
   "outputs": [
    {
     "data": {
      "image/png": "[encoded data removed]",
      "text/plain": [
       "<Figure size 432x288 with 1 Axes>"
      ]
     },
     "metadata": {
      "needs_background": "light"
     },
     "output_type": "display_data"
    }
   ],
   "source": [
    "plt.hist([np.random.poisson(data.sum(1).mean(),size=len(data)),data.sum(1)],bins=np.arange(0,20000,100),density=True);"
   ]
  },
  {
   "cell_type": "code",
   "execution_count": 152,
   "id": "259f3d77",
   "metadata": {},
   "outputs": [
    {
     "name": "stderr",
     "output_type": "stream",
     "text": [
      "100%|██████████| 10/10 [00:02<00:00,  3.77it/s]\n"
     ]
    }
   ],
   "source": [
    "import matplotlib.pyplot as plt\n",
    "from math import factorial, exp, log\n",
    "from scipy import integrate, special\n",
    "from tqdm import tqdm\n",
    "\n",
    "def f_func(x,z):\n",
    "    I=len(z)\n",
    "    J=len(x)\n",
    "    z=np.reshape(z,(I,1))\n",
    "    x=np.reshape(x,(1,J))\n",
    "    Z=np.repeat(z,J,axis=1)\n",
    "    X=np.repeat(x,I,axis=0)    \n",
    "    return np.exp(np.log(Z+10**(-10))*X-z-special.gammaln(x+1))\n",
    "\n",
    "x = data.sum(1)\n",
    "\n",
    "# parameters\n",
    "ite_num=10\n",
    "z_range=20000  \n",
    "\n",
    "# initialization\n",
    "n=len(x)\n",
    "dz=1\n",
    "z=np.arange(0,z_range+dz,dz) # here use z to denote the discretized t\n",
    "pi=np.ones_like(z)/z_range\n",
    "z=np.reshape(z,(len(z),1))\n",
    "\n",
    "\n",
    "unique, counts = np.unique(x, return_counts=True)\n",
    "f=f_func(unique,z)\n",
    "L=np.zeros([ite_num,len(unique)])\n",
    "\n",
    "# iteration\n",
    "for i in tqdm(range(ite_num)):  \n",
    "    f_int=integrate.trapz(f*pi[:,None],z,axis=0) \n",
    "    pi=pi*np.sum(counts[None,:]*f/f_int,axis=1)/n\n",
    "    L[i,:]=f_int"
   ]
  },
  {
   "cell_type": "code",
   "execution_count": 153,
   "id": "4e1ffcfa",
   "metadata": {},
   "outputs": [
    {
     "data": {
      "text/plain": [
       "Text(0.5, 1.0, 'total counts distribution')"
      ]
     },
     "execution_count": 153,
     "metadata": {},
     "output_type": "execute_result"
    },
    {
     "data": {
      "image/png": "[encoded data removed]",
      "text/plain": [
       "<Figure size 432x288 with 1 Axes>"
      ]
     },
     "metadata": {
      "needs_background": "light"
     },
     "output_type": "display_data"
    }
   ],
   "source": [
    "plt.hist(x)\n",
    "plt.title('total counts distribution')"
   ]
  },
  {
   "cell_type": "code",
   "execution_count": 154,
   "id": "bbace4d1",
   "metadata": {},
   "outputs": [
    {
     "data": {
      "text/plain": [
       "0.042550781825023226"
      ]
     },
     "execution_count": 154,
     "metadata": {},
     "output_type": "execute_result"
    }
   ],
   "source": [
    "np.var(x)/x.mean()**2"
   ]
  },
  {
   "cell_type": "code",
   "execution_count": 155,
   "id": "21e8016d",
   "metadata": {},
   "outputs": [
    {
     "data": {
      "image/png": "[encoded data removed]",
      "text/plain": [
       "<Figure size 432x288 with 1 Axes>"
      ]
     },
     "metadata": {
      "needs_background": "light"
     },
     "output_type": "display_data"
    }
   ],
   "source": [
    "plt.scatter(z,pi,s=0.1);"
   ]
  },
  {
   "cell_type": "code",
   "execution_count": 156,
   "id": "069c1161",
   "metadata": {},
   "outputs": [
    {
     "data": {
      "text/plain": [
       "Text(0.5, 1.0, 'read depth distribution')"
      ]
     },
     "execution_count": 156,
     "metadata": {},
     "output_type": "execute_result"
    },
    {
     "data": {
      "image/png": "[encoded data removed]",
      "text/plain": [
       "<Figure size 432x288 with 1 Axes>"
      ]
     },
     "metadata": {
      "needs_background": "light"
     },
     "output_type": "display_data"
    }
   ],
   "source": [
    "plt.scatter(z/x.mean(),pi,s=0.1);\n",
    "plt.title('read depth distribution')"
   ]
  },
  {
   "cell_type": "code",
   "execution_count": 157,
   "id": "bc5ec030",
   "metadata": {},
   "outputs": [],
   "source": [
    "m1 = (z[:,0]*pi).sum()\n",
    "m2 = ((z[:,0]-m1)**2*pi).sum()\n",
    "m3 = ((z[:,0]-m1)**3*pi).sum()\n",
    "m4 = ((z[:,0]-m1)**4*pi).sum()\n",
    "m5 = ((z[:,0]-m1)**5*pi).sum()\n",
    "m6 = ((z[:,0]-m1)**6*pi).sum()"
   ]
  },
  {
   "cell_type": "code",
   "execution_count": 158,
   "id": "d22175a6",
   "metadata": {},
   "outputs": [
    {
     "data": {
      "text/plain": [
       "0.042462729054590635"
      ]
     },
     "execution_count": 158,
     "metadata": {},
     "output_type": "execute_result"
    }
   ],
   "source": [
    "m2/m1**2"
   ]
  },
  {
   "cell_type": "code",
   "execution_count": 104,
   "id": "f6f55a95",
   "metadata": {},
   "outputs": [
    {
     "data": {
      "text/plain": [
       "-1.5365570285228871"
      ]
     },
     "execution_count": 104,
     "metadata": {},
     "output_type": "execute_result"
    }
   ],
   "source": [
    "skewness = m3/(m2**1.5)\n",
    "skewness"
   ]
  },
  {
   "cell_type": "markdown",
   "id": "c5197af7",
   "metadata": {},
   "source": [
    "**Less skewer than lognormal and Gamma distribution, but more overdispersed than Normal**"
   ]
  },
  {
   "cell_type": "code",
   "execution_count": 75,
   "id": "bffb749b",
   "metadata": {},
   "outputs": [],
   "source": [
    "expsigma2 = m2/m1**2 + 1"
   ]
  },
  {
   "cell_type": "code",
   "execution_count": 76,
   "id": "60db7aa9",
   "metadata": {},
   "outputs": [
    {
     "data": {
      "text/plain": [
       "0.6460923577396745"
      ]
     },
     "execution_count": 76,
     "metadata": {},
     "output_type": "execute_result"
    }
   ],
   "source": [
    "(expsigma2 + 2)  * np.sqrt(expsigma2-1)"
   ]
  },
  {
   "cell_type": "code",
   "execution_count": 69,
   "id": "842e0c87",
   "metadata": {},
   "outputs": [
    {
     "data": {
      "text/plain": [
       "1.679080296498339"
      ]
     },
     "execution_count": 69,
     "metadata": {},
     "output_type": "execute_result"
    }
   ],
   "source": [
    "m4/(3*m2**2)"
   ]
  },
  {
   "cell_type": "code",
   "execution_count": 70,
   "id": "dbc8ed38",
   "metadata": {},
   "outputs": [
    {
     "data": {
      "text/plain": [
       "5.700083262540179"
      ]
     },
     "execution_count": 70,
     "metadata": {},
     "output_type": "execute_result"
    }
   ],
   "source": [
    "m6/(15*m2**3)"
   ]
  },
  {
   "cell_type": "code",
   "execution_count": 55,
   "id": "efb1b2b4",
   "metadata": {},
   "outputs": [
    {
     "data": {
      "text/plain": [
       "0.04502034419281209"
      ]
     },
     "execution_count": 55,
     "metadata": {},
     "output_type": "execute_result"
    }
   ],
   "source": [
    "(z[:,0]**2*pi).sum()/((z[:,0]*pi).sum())**2 - 1"
   ]
  },
  {
   "cell_type": "markdown",
   "id": "632c9bfc",
   "metadata": {},
   "source": [
    "## Two mixtures"
   ]
  },
  {
   "cell_type": "code",
   "execution_count": 20,
   "id": "2a50fd12",
   "metadata": {},
   "outputs": [],
   "source": [
    "#!/usr/bin/env python3\n",
    "# -*- coding: utf-8 -*-\n",
    "\n",
    "import numpy as np\n",
    "from scipy.special import logsumexp, softmax\n",
    "from scipy.stats import poisson\n",
    "\n",
    "\n",
    "    \n",
    "eps = 1e-6\n",
    "\n",
    "\n",
    "class PoissonMixture:\n",
    "    \"\"\"\n",
    "    Poisson mixture model\n",
    "\n",
    "    Attributes\n",
    "    ----------\n",
    "    n_components : int, number of mixtures, default=1\n",
    "    theta : ndarray of shape (n_components, p, 2). \n",
    "            Means of Poisson distribution for U and S of each gene\n",
    "    weights : ndarray of shape (n_components,). Weights of each mixture as in GMM.\n",
    "    \"\"\"\n",
    "\n",
    "    def __init__(self, n_components=1, verbose=0):\n",
    "        self.n_components = n_components\n",
    "        self.verbose = verbose    \n",
    "        return\n",
    "    \n",
    "    def _get_parameters(self):\n",
    "        return self.theta.copy(), self.weights.copy()\n",
    "        \n",
    "    def _initialize_Q(self, n):\n",
    "        Q=np.random.uniform(0,1,size=(n, self.n_components))\n",
    "        Q *= self.weights[None,:]\n",
    "        Q=Q/Q.sum(axis=(-1),keepdims=True)\n",
    "        return Q\n",
    "\n",
    "    def _m_step(self,X,Q):\n",
    "        self.weights = eps+np.sum(Q,axis=0)\n",
    "        self.weights /= self.weights.sum()   \n",
    "        self.theta = (Q[:,:,None,None]*X[:,None,:,:]).mean(axis=0)/self.weights[:,None,None]\n",
    "        return\n",
    "\n",
    "    def _e_step(self,X):\n",
    "        logL = np.sum(poisson.logpmf(k=X[:,None,:,:], mu=self.rd[:,None,None,None] * self.theta[None,:,:,:]), axis=(2,3))\n",
    "        logL += np.log(self.weights)[None,:]\n",
    "        Q = softmax(logL, axis=1)\n",
    "        lower_bound = np.mean(logsumexp(a=logL, axis=1))\n",
    "        return Q, lower_bound\n",
    "        \n",
    "   \n",
    "    def _fit(self, X, epoch):\n",
    "        for i in range(epoch):\n",
    "            Q, lower_bound = self._e_step(X)  \n",
    "            self._m_step(X, Q)\n",
    "        return Q, lower_bound\n",
    "        \n",
    "    def fit(self, X, warm_start, Q=None, theta=None, weights=None, read_depth=None, n_init=10, epoch=100, seed=42):\n",
    "        \"\"\"  \n",
    "\n",
    "        Parameters\n",
    "        ----------\n",
    "        X : ndarray of shape(n,p,2)\n",
    "            DESCRIPTION.\n",
    "        warm_start : TYPE\n",
    "            DESCRIPTION.\n",
    "        Q : ndarray of shape(n,n_components)\n",
    "            Posteriors. The default is None.\n",
    "        theta : TYPE, optional\n",
    "            DESCRIPTION. The default is None.\n",
    "        weights : TYPE, optional\n",
    "            DESCRIPTION. The default is None.\n",
    "        n_init : TYPE, optional\n",
    "            DESCRIPTION. The default is 10.\n",
    "        epoch : TYPE, optional\n",
    "            DESCRIPTION. The default is 100.\n",
    "        seed : TYPE, optional\n",
    "            DESCRIPTION. The default is 42.\n",
    "\n",
    "        Returns\n",
    "        -------\n",
    "        TYPE\n",
    "            DESCRIPTION.\n",
    "\n",
    "        \"\"\"\n",
    "        self.warm_start = warm_start\n",
    "        np.random.seed(seed)\n",
    "        if read_depth is not None:\n",
    "            assert np.shape(read_depth) == (len(X),) \n",
    "            read_depth /= read_depth.mean()\n",
    "            self.rd = read_depth \n",
    "        else:\n",
    "            self.rd = np.ones(len(X))\n",
    "             \n",
    "        ### Initialize weights\n",
    "        if weights is None:\n",
    "            self.weights = np.ones(self.n_components)/self.n_components\n",
    "        elif len(weights) == self.n_components:\n",
    "            self.weights = weights\n",
    "        else:\n",
    "            raise ValueError(\"check weights and n_components\")\n",
    "        \n",
    "        if warm_start:\n",
    "            if theta is None:\n",
    "                assert Q is not None\n",
    "                self._m_step(X, Q)\n",
    "            else:\n",
    "                self.theta = theta.copy()\n",
    "            return self._fit(X, epoch=epoch)\n",
    "            \n",
    "        else:\n",
    "            max_lower_bound = -np.inf\n",
    "            n, p, s = X.shape\n",
    "            for init in range(n_init):\n",
    "                Q = self._initialize_Q(n)\n",
    "                self._m_step(X, Q)\n",
    "                Q, lower_bound = self._fit(X, epoch)\n",
    "                \n",
    "                if lower_bound > max_lower_bound or max_lower_bound == -np.inf:\n",
    "                    max_lower_bound = lower_bound\n",
    "                    best_params = self._get_parameters()\n",
    "                    best_Q = Q\n",
    "    \n",
    "            self.theta, self.weights = best_params\n",
    "        return best_Q, max_lower_bound\n",
    "\n",
    "    \n",
    "    def compute_lower_bound(self,X):\n",
    "        logL = np.sum(poisson.logpmf(k=X[:,None,:,:], mu=self.theta[None,:,:,:]), axis=(2,3))\n",
    "        logL += np.log(self.weights)[None,:]\n",
    "        return np.mean(logsumexp(a=logL, axis=1))\n",
    "    \n",
    "    def compute_AIC(self, X):\n",
    "        n, p, s = np.shape(X)\n",
    "        self.n_parameters = self.theta.size + self.n_components - 1      \n",
    "        return self.compute_lower_bound(X) - self.n_parameters/n\n"
   ]
  },
  {
   "cell_type": "code",
   "execution_count": 23,
   "id": "2c63bcd3",
   "metadata": {},
   "outputs": [],
   "source": [
    "PM = PoissonMixture(2)\n",
    "Q, elbo = PM.fit(X[:,:,None],warm_start=False,read_depth=None)"
   ]
  },
  {
   "cell_type": "code",
   "execution_count": 26,
   "id": "e2424744",
   "metadata": {},
   "outputs": [
    {
     "data": {
      "text/plain": [
       "[<matplotlib.lines.Line2D at 0x7f320d615e20>,\n",
       " <matplotlib.lines.Line2D at 0x7f320d607d30>]"
      ]
     },
     "execution_count": 26,
     "metadata": {},
     "output_type": "execute_result"
    },
    {
     "data": {
      "image/png": "[encoded data removed]",
      "text/plain": [
       "<Figure size 432x288 with 1 Axes>"
      ]
     },
     "metadata": {
      "needs_background": "light"
     },
     "output_type": "display_data"
    }
   ],
   "source": [
    "plt.plot(Q,'.')"
   ]
  },
  {
   "cell_type": "code",
   "execution_count": 30,
   "id": "633db832",
   "metadata": {},
   "outputs": [
    {
     "data": {
      "text/plain": [
       "894"
      ]
     },
     "execution_count": 30,
     "metadata": {},
     "output_type": "execute_result"
    }
   ],
   "source": [
    "label=np.argmax(Q,axis=1)\n",
    "(label==1).sum()"
   ]
  },
  {
   "cell_type": "code",
   "execution_count": 28,
   "id": "293a4be6",
   "metadata": {},
   "outputs": [
    {
     "data": {
      "text/plain": [
       "[<matplotlib.lines.Line2D at 0x7f320d4dc370>]"
      ]
     },
     "execution_count": 28,
     "metadata": {},
     "output_type": "execute_result"
    },
    {
     "data": {
      "image/png": "[encoded data removed]",
      "text/plain": [
       "<Figure size 432x288 with 1 Axes>"
      ]
     },
     "metadata": {
      "needs_background": "light"
     },
     "output_type": "display_data"
    }
   ],
   "source": [
    "plt.plot(PM.theta[0,:,0],PM.theta[1,:,0],'.')\n",
    "plt.plot(PM.theta[0,:,0],2*PM.theta[0,:,0],'.')"
   ]
  },
  {
   "cell_type": "code",
   "execution_count": 38,
   "id": "43651dae",
   "metadata": {},
   "outputs": [
    {
     "name": "stdout",
     "output_type": "stream",
     "text": [
      "s = 0.06308284067958143\n"
     ]
    }
   ],
   "source": [
    "XX = data[(label==1)]\n",
    "\n",
    "gene_mask = (np.mean(XX,axis=0)>0) & (np.var(XX,axis=0)>0) \n",
    "X = data[:,gene_mask]\n",
    "cov = np.cov(X,rowvar=False)\n",
    "X_bar = np.mean(X,axis=0)\n",
    "X_var = np.diag(cov)\n",
    "\n",
    "rho = cov/X_bar[:,None]/X_bar[None,:]\n",
    "s = (np.sum(rho)-np.sum(np.diag(rho)))/(len(rho)-1)/len(rho)\n",
    "print('s =',s)"
   ]
  },
  {
   "cell_type": "code",
   "execution_count": 41,
   "id": "6458bcf0",
   "metadata": {},
   "outputs": [
    {
     "data": {
      "text/plain": [
       "<matplotlib.legend.Legend at 0x7f320da53dc0>"
      ]
     },
     "execution_count": 41,
     "metadata": {},
     "output_type": "execute_result"
    },
    {
     "data": {
      "image/png": "[encoded data removed]",
      "text/plain": [
       "<Figure size 432x288 with 1 Axes>"
      ]
     },
     "metadata": {
      "needs_background": "light"
     },
     "output_type": "display_data"
    }
   ],
   "source": [
    "matplotlib.rc('font', size=20)\n",
    "eta_0 = -1\n",
    "Ec = 0.071\n",
    "a = 1 + Ec * (s + 1) * (1 + eta_0)\n",
    "plt.axhline(y=s, c='gray',label='s='+str(np.around(s,3)))\n",
    "plt.scatter(X_bar, a/X_bar + s,c='r',alpha=1, s=10,label=r'$\\frac{1}{\\mu}$ + s')\n",
    "plt.scatter(X_bar, X_var/X_bar**2,c='k',alpha=1, s=10)\n",
    "plt.xlabel(r'$\\mu$',fontsize=24)\n",
    "plt.ylabel(r'$CV^2$',fontsize=24)\n",
    "plt.title(\"Pure RNA\",fontsize=28)\n",
    "plt.xscale('log')\n",
    "plt.yscale('log')\n",
    "plt.legend()"
   ]
  },
  {
   "cell_type": "markdown",
   "id": "87f568f8",
   "metadata": {},
   "source": [
    "## Pgenes"
   ]
  },
  {
   "cell_type": "code",
   "execution_count": 96,
   "id": "438074cd",
   "metadata": {},
   "outputs": [
    {
     "name": "stdout",
     "output_type": "stream",
     "text": [
      "23898\n"
     ]
    },
    {
     "data": {
      "text/plain": [
       "<matplotlib.legend.Legend at 0x7f12f37f1b20>"
      ]
     },
     "execution_count": 96,
     "metadata": {},
     "output_type": "execute_result"
    },
    {
     "data": {
      "image/png": "[encoded data removed]",
      "text/plain": [
       "<Figure size 432x288 with 1 Axes>"
      ]
     },
     "metadata": {
      "needs_background": "light"
     },
     "output_type": "display_data"
    }
   ],
   "source": [
    "Pgene_mask = (X_bar > 0) & (np.abs(X_var/(a*X_bar + s*X_bar**2)-1) < 0.1)\n",
    "Pgenes = var_names[gene_mask][Pgene_mask]\n",
    "print(np.sum(Pgene_mask))\n",
    "\n",
    "plt.scatter(X_bar[Pgene_mask], a/X_bar[Pgene_mask] + s, c='r', s=20)\n",
    "plt.scatter(X_bar, X_var/X_bar**2,c='lightgray',alpha=1, s=0.1)\n",
    "plt.scatter(X_bar[Pgene_mask], X_var[Pgene_mask]/X_bar[Pgene_mask]**2,c='k', s=1, label=str(np.around(100*np.sum(Pgene_mask)/len(X_bar),1))+\"%\")\n",
    "plt.xlabel(r'$\\mu$')\n",
    "plt.ylabel(r'CV')\n",
    "plt.xscale('log')\n",
    "plt.yscale('log')\n",
    "plt.legend(loc=\"upper right\")"
   ]
  },
  {
   "cell_type": "code",
   "execution_count": 98,
   "id": "791eba67",
   "metadata": {},
   "outputs": [
    {
     "name": "stdout",
     "output_type": "stream",
     "text": [
      "old Pgenes_s = 0.048379452311131985\n",
      "23898\n",
      "new Pgenes_s = 0.048044352846043685\n"
     ]
    }
   ],
   "source": [
    "old_Pgenes_s = s\n",
    "print('old Pgenes_s =', old_Pgenes_s)\n",
    "Pgene_mask = (X_bar > 0) & (np.abs(X_var/(a*X_bar + old_Pgenes_s*X_bar**2)-1)<0.1)\n",
    "Pgenes = var_names[gene_mask][Pgene_mask]\n",
    "print(np.sum(Pgene_mask))\n",
    "\n",
    "x=X[:,Pgene_mask]\n",
    "x_cov = np.cov(x,rowvar=False)\n",
    "x_bar = np.mean(x,axis=0)\n",
    "x_var = np.diag(x_cov)\n",
    "x_rho = x_cov/x_bar[:,None]/x_bar[None,:]\n",
    "new_Pgenes_s = (np.sum(x_rho)-np.sum(np.diag(x_rho)))/(len(x_rho)-1)/len(x_rho)\n",
    "print('new Pgenes_s =',new_Pgenes_s)"
   ]
  },
  {
   "cell_type": "code",
   "execution_count": 11,
   "id": "4882a4e7",
   "metadata": {},
   "outputs": [
    {
     "data": {
      "image/png": "[encoded data removed]",
      "text/plain": [
       "<Figure size 432x288 with 1 Axes>"
      ]
     },
     "metadata": {
      "needs_background": "light"
     },
     "output_type": "display_data"
    }
   ],
   "source": [
    "x=X[:,Pgene_mask]\n",
    "fig,ax = plt.subplots(1,1,figsize=(6,4))\n",
    "ax.scatter(data.sum(axis=1)/data.sum(axis=1).mean(),x.sum(axis=1)/x.sum(axis=1).mean(),s=1);\n",
    "ax.plot(x.sum(axis=1)/x.sum(axis=1).mean(),x.sum(axis=1)/x.sum(axis=1).mean(),c='grey');"
   ]
  },
  {
   "cell_type": "markdown",
   "id": "c9915ca2",
   "metadata": {},
   "source": [
    "## Bootstrap"
   ]
  },
  {
   "cell_type": "code",
   "execution_count": 12,
   "id": "ab70d784",
   "metadata": {},
   "outputs": [],
   "source": [
    "s_bootstrap = bootstrap_s(X,B=100,cores=10)"
   ]
  },
  {
   "cell_type": "code",
   "execution_count": 13,
   "id": "7324dd0c",
   "metadata": {},
   "outputs": [
    {
     "data": {
      "text/plain": [
       "<matplotlib.lines.Line2D at 0x7f3c8df63340>"
      ]
     },
     "execution_count": 13,
     "metadata": {},
     "output_type": "execute_result"
    },
    {
     "data": {
      "image/png": "[encoded data removed]",
      "text/plain": [
       "<Figure size 432x288 with 1 Axes>"
      ]
     },
     "metadata": {
      "needs_background": "light"
     },
     "output_type": "display_data"
    }
   ],
   "source": [
    "plt.hist(s_bootstrap,color='lightgray',bins=10,density=True)\n",
    "plt.axvline(x=s,color='lightsteelblue',linewidth=5)"
   ]
  },
  {
   "cell_type": "markdown",
   "id": "5d450c95",
   "metadata": {},
   "source": [
    "# RNA mixture CEL-seq"
   ]
  },
  {
   "cell_type": "code",
   "execution_count": 107,
   "id": "2a472b3c",
   "metadata": {},
   "outputs": [
    {
     "name": "stdout",
     "output_type": "stream",
     "text": [
      "--2023-03-20 21:00:27--  https://ftp.ncbi.nlm.nih.gov/geo/samples/GSM3305nnn/GSM3305230/suppl/GSM3305230_CelSeq2_Mixture_Sample_counts.csv.gz\n",
      "Resolving ftp.ncbi.nlm.nih.gov (ftp.ncbi.nlm.nih.gov)... 130.14.250.11, 130.14.250.7, 2607:f220:41e:250::7, ...\n",
      "Connecting to ftp.ncbi.nlm.nih.gov (ftp.ncbi.nlm.nih.gov)|130.14.250.11|:443... connected.\n",
      "HTTP request sent, awaiting response... 200 OK\n",
      "Length: 2595685 (2.5M) [application/x-gzip]\n",
      "Saving to: ‘GSM3305230_CelSeq2_Mixture_Sample_counts.csv.gz’\n",
      "\n",
      "GSM3305230_CelSeq2_ 100%[===================>]   2.47M  2.59MB/s    in 1.0s    \n",
      "\n",
      "2023-03-20 21:00:30 (2.59 MB/s) - ‘GSM3305230_CelSeq2_Mixture_Sample_counts.csv.gz’ saved [2595685/2595685]\n",
      "\n"
     ]
    }
   ],
   "source": [
    "!wget https://ftp.ncbi.nlm.nih.gov/geo/samples/GSM3305nnn/GSM3305230/suppl/GSM3305230_CelSeq2_Mixture_Sample_counts.csv.gz"
   ]
  },
  {
   "cell_type": "code",
   "execution_count": 109,
   "id": "e6bbe422",
   "metadata": {},
   "outputs": [],
   "source": [
    "!gunzip GSM3305230_CelSeq2_Mixture_Sample_counts.csv.gz"
   ]
  },
  {
   "cell_type": "code",
   "execution_count": 159,
   "id": "17674101",
   "metadata": {},
   "outputs": [
    {
     "data": {
      "text/html": [
       "<div>\n",
       "<style scoped>\n",
       "    .dataframe tbody tr th:only-of-type {\n",
       "        vertical-align: middle;\n",
       "    }\n",
       "\n",
       "    .dataframe tbody tr th {\n",
       "        vertical-align: top;\n",
       "    }\n",
       "\n",
       "    .dataframe thead th {\n",
       "        text-align: right;\n",
       "    }\n",
       "</style>\n",
       "<table border=\"1\" class=\"dataframe\">\n",
       "  <thead>\n",
       "    <tr style=\"text-align: right;\">\n",
       "      <th></th>\n",
       "      <th>0</th>\n",
       "      <th>1</th>\n",
       "      <th>2</th>\n",
       "      <th>3</th>\n",
       "      <th>4</th>\n",
       "      <th>5</th>\n",
       "      <th>6</th>\n",
       "      <th>7</th>\n",
       "      <th>8</th>\n",
       "      <th>9</th>\n",
       "      <th>...</th>\n",
       "      <th>27264</th>\n",
       "      <th>27265</th>\n",
       "      <th>27266</th>\n",
       "      <th>27267</th>\n",
       "      <th>27268</th>\n",
       "      <th>27269</th>\n",
       "      <th>27270</th>\n",
       "      <th>27271</th>\n",
       "      <th>27272</th>\n",
       "      <th>27273</th>\n",
       "    </tr>\n",
       "  </thead>\n",
       "  <tbody>\n",
       "    <tr>\n",
       "      <th>gene_id</th>\n",
       "      <td>ENSG00000269779</td>\n",
       "      <td>ENSG00000250384</td>\n",
       "      <td>ENSG00000272787</td>\n",
       "      <td>ENSG00000163736</td>\n",
       "      <td>ENSG00000276645</td>\n",
       "      <td>ENSG00000235368</td>\n",
       "      <td>ENSG00000260423</td>\n",
       "      <td>ENSG00000080854</td>\n",
       "      <td>ENSG00000235266</td>\n",
       "      <td>ENSG00000100385</td>\n",
       "      <td>...</td>\n",
       "      <td>ENSG00000099958</td>\n",
       "      <td>ENSG00000270987</td>\n",
       "      <td>ENSG00000251463</td>\n",
       "      <td>ENSG00000266709</td>\n",
       "      <td>ENSG00000237836</td>\n",
       "      <td>ENSG00000157014</td>\n",
       "      <td>ENSG00000231404</td>\n",
       "      <td>ENSG00000224934</td>\n",
       "      <td>ENSG00000189157</td>\n",
       "      <td>ENSG00000240498</td>\n",
       "    </tr>\n",
       "    <tr>\n",
       "      <th>CelSeq2_Mixture_Sample_A1</th>\n",
       "      <td>0</td>\n",
       "      <td>0</td>\n",
       "      <td>0</td>\n",
       "      <td>0</td>\n",
       "      <td>0</td>\n",
       "      <td>0</td>\n",
       "      <td>0</td>\n",
       "      <td>0</td>\n",
       "      <td>0</td>\n",
       "      <td>0</td>\n",
       "      <td>...</td>\n",
       "      <td>0</td>\n",
       "      <td>1</td>\n",
       "      <td>0</td>\n",
       "      <td>0</td>\n",
       "      <td>0</td>\n",
       "      <td>1</td>\n",
       "      <td>0</td>\n",
       "      <td>0</td>\n",
       "      <td>0</td>\n",
       "      <td>0</td>\n",
       "    </tr>\n",
       "    <tr>\n",
       "      <th>CelSeq2_Mixture_Sample_A2</th>\n",
       "      <td>0</td>\n",
       "      <td>0</td>\n",
       "      <td>0</td>\n",
       "      <td>0</td>\n",
       "      <td>0</td>\n",
       "      <td>0</td>\n",
       "      <td>0</td>\n",
       "      <td>0</td>\n",
       "      <td>0</td>\n",
       "      <td>0</td>\n",
       "      <td>...</td>\n",
       "      <td>0</td>\n",
       "      <td>0</td>\n",
       "      <td>0</td>\n",
       "      <td>0</td>\n",
       "      <td>0</td>\n",
       "      <td>0</td>\n",
       "      <td>0</td>\n",
       "      <td>0</td>\n",
       "      <td>0</td>\n",
       "      <td>0</td>\n",
       "    </tr>\n",
       "    <tr>\n",
       "      <th>CelSeq2_Mixture_Sample_A3</th>\n",
       "      <td>0</td>\n",
       "      <td>0</td>\n",
       "      <td>0</td>\n",
       "      <td>0</td>\n",
       "      <td>0</td>\n",
       "      <td>0</td>\n",
       "      <td>0</td>\n",
       "      <td>0</td>\n",
       "      <td>0</td>\n",
       "      <td>0</td>\n",
       "      <td>...</td>\n",
       "      <td>0</td>\n",
       "      <td>0</td>\n",
       "      <td>0</td>\n",
       "      <td>0</td>\n",
       "      <td>0</td>\n",
       "      <td>0</td>\n",
       "      <td>0</td>\n",
       "      <td>0</td>\n",
       "      <td>0</td>\n",
       "      <td>0</td>\n",
       "    </tr>\n",
       "    <tr>\n",
       "      <th>CelSeq2_Mixture_Sample_A4</th>\n",
       "      <td>0</td>\n",
       "      <td>0</td>\n",
       "      <td>0</td>\n",
       "      <td>0</td>\n",
       "      <td>0</td>\n",
       "      <td>0</td>\n",
       "      <td>0</td>\n",
       "      <td>0</td>\n",
       "      <td>0</td>\n",
       "      <td>0</td>\n",
       "      <td>...</td>\n",
       "      <td>0</td>\n",
       "      <td>0</td>\n",
       "      <td>0</td>\n",
       "      <td>0</td>\n",
       "      <td>0</td>\n",
       "      <td>1</td>\n",
       "      <td>0</td>\n",
       "      <td>0</td>\n",
       "      <td>0</td>\n",
       "      <td>0</td>\n",
       "    </tr>\n",
       "    <tr>\n",
       "      <th>...</th>\n",
       "      <td>...</td>\n",
       "      <td>...</td>\n",
       "      <td>...</td>\n",
       "      <td>...</td>\n",
       "      <td>...</td>\n",
       "      <td>...</td>\n",
       "      <td>...</td>\n",
       "      <td>...</td>\n",
       "      <td>...</td>\n",
       "      <td>...</td>\n",
       "      <td>...</td>\n",
       "      <td>...</td>\n",
       "      <td>...</td>\n",
       "      <td>...</td>\n",
       "      <td>...</td>\n",
       "      <td>...</td>\n",
       "      <td>...</td>\n",
       "      <td>...</td>\n",
       "      <td>...</td>\n",
       "      <td>...</td>\n",
       "      <td>...</td>\n",
       "    </tr>\n",
       "    <tr>\n",
       "      <th>CelSeq2_Mixture_Sample_P20</th>\n",
       "      <td>0</td>\n",
       "      <td>0</td>\n",
       "      <td>0</td>\n",
       "      <td>0</td>\n",
       "      <td>0</td>\n",
       "      <td>0</td>\n",
       "      <td>0</td>\n",
       "      <td>0</td>\n",
       "      <td>0</td>\n",
       "      <td>0</td>\n",
       "      <td>...</td>\n",
       "      <td>0</td>\n",
       "      <td>1</td>\n",
       "      <td>0</td>\n",
       "      <td>0</td>\n",
       "      <td>0</td>\n",
       "      <td>2</td>\n",
       "      <td>0</td>\n",
       "      <td>0</td>\n",
       "      <td>0</td>\n",
       "      <td>0</td>\n",
       "    </tr>\n",
       "    <tr>\n",
       "      <th>CelSeq2_Mixture_Sample_P21</th>\n",
       "      <td>0</td>\n",
       "      <td>0</td>\n",
       "      <td>0</td>\n",
       "      <td>0</td>\n",
       "      <td>0</td>\n",
       "      <td>0</td>\n",
       "      <td>0</td>\n",
       "      <td>1</td>\n",
       "      <td>1</td>\n",
       "      <td>1</td>\n",
       "      <td>...</td>\n",
       "      <td>0</td>\n",
       "      <td>0</td>\n",
       "      <td>0</td>\n",
       "      <td>0</td>\n",
       "      <td>0</td>\n",
       "      <td>1</td>\n",
       "      <td>0</td>\n",
       "      <td>0</td>\n",
       "      <td>0</td>\n",
       "      <td>0</td>\n",
       "    </tr>\n",
       "    <tr>\n",
       "      <th>CelSeq2_Mixture_Sample_P22</th>\n",
       "      <td>1</td>\n",
       "      <td>1</td>\n",
       "      <td>1</td>\n",
       "      <td>1</td>\n",
       "      <td>1</td>\n",
       "      <td>1</td>\n",
       "      <td>1</td>\n",
       "      <td>0</td>\n",
       "      <td>0</td>\n",
       "      <td>0</td>\n",
       "      <td>...</td>\n",
       "      <td>1</td>\n",
       "      <td>0</td>\n",
       "      <td>0</td>\n",
       "      <td>0</td>\n",
       "      <td>0</td>\n",
       "      <td>2</td>\n",
       "      <td>0</td>\n",
       "      <td>0</td>\n",
       "      <td>0</td>\n",
       "      <td>0</td>\n",
       "    </tr>\n",
       "    <tr>\n",
       "      <th>CelSeq2_Mixture_Sample_P23</th>\n",
       "      <td>0</td>\n",
       "      <td>0</td>\n",
       "      <td>0</td>\n",
       "      <td>0</td>\n",
       "      <td>0</td>\n",
       "      <td>0</td>\n",
       "      <td>0</td>\n",
       "      <td>0</td>\n",
       "      <td>0</td>\n",
       "      <td>0</td>\n",
       "      <td>...</td>\n",
       "      <td>0</td>\n",
       "      <td>0</td>\n",
       "      <td>0</td>\n",
       "      <td>0</td>\n",
       "      <td>0</td>\n",
       "      <td>0</td>\n",
       "      <td>0</td>\n",
       "      <td>0</td>\n",
       "      <td>0</td>\n",
       "      <td>0</td>\n",
       "    </tr>\n",
       "    <tr>\n",
       "      <th>CelSeq2_Mixture_Sample_P24</th>\n",
       "      <td>0</td>\n",
       "      <td>0</td>\n",
       "      <td>0</td>\n",
       "      <td>0</td>\n",
       "      <td>0</td>\n",
       "      <td>0</td>\n",
       "      <td>0</td>\n",
       "      <td>0</td>\n",
       "      <td>0</td>\n",
       "      <td>0</td>\n",
       "      <td>...</td>\n",
       "      <td>0</td>\n",
       "      <td>0</td>\n",
       "      <td>0</td>\n",
       "      <td>0</td>\n",
       "      <td>0</td>\n",
       "      <td>0</td>\n",
       "      <td>0</td>\n",
       "      <td>0</td>\n",
       "      <td>0</td>\n",
       "      <td>0</td>\n",
       "    </tr>\n",
       "  </tbody>\n",
       "</table>\n",
       "<p>384 rows × 27274 columns</p>\n",
       "</div>"
      ],
      "text/plain": [
       "                                      0                1                2      \\\n",
       "gene_id                     ENSG00000269779  ENSG00000250384  ENSG00000272787   \n",
       "CelSeq2_Mixture_Sample_A1                 0                0                0   \n",
       "CelSeq2_Mixture_Sample_A2                 0                0                0   \n",
       "CelSeq2_Mixture_Sample_A3                 0                0                0   \n",
       "CelSeq2_Mixture_Sample_A4                 0                0                0   \n",
       "...                                     ...              ...              ...   \n",
       "CelSeq2_Mixture_Sample_P20                0                0                0   \n",
       "CelSeq2_Mixture_Sample_P21                0                0                0   \n",
       "CelSeq2_Mixture_Sample_P22                1                1                1   \n",
       "CelSeq2_Mixture_Sample_P23                0                0                0   \n",
       "CelSeq2_Mixture_Sample_P24                0                0                0   \n",
       "\n",
       "                                      3                4                5      \\\n",
       "gene_id                     ENSG00000163736  ENSG00000276645  ENSG00000235368   \n",
       "CelSeq2_Mixture_Sample_A1                 0                0                0   \n",
       "CelSeq2_Mixture_Sample_A2                 0                0                0   \n",
       "CelSeq2_Mixture_Sample_A3                 0                0                0   \n",
       "CelSeq2_Mixture_Sample_A4                 0                0                0   \n",
       "...                                     ...              ...              ...   \n",
       "CelSeq2_Mixture_Sample_P20                0                0                0   \n",
       "CelSeq2_Mixture_Sample_P21                0                0                0   \n",
       "CelSeq2_Mixture_Sample_P22                1                1                1   \n",
       "CelSeq2_Mixture_Sample_P23                0                0                0   \n",
       "CelSeq2_Mixture_Sample_P24                0                0                0   \n",
       "\n",
       "                                      6                7                8      \\\n",
       "gene_id                     ENSG00000260423  ENSG00000080854  ENSG00000235266   \n",
       "CelSeq2_Mixture_Sample_A1                 0                0                0   \n",
       "CelSeq2_Mixture_Sample_A2                 0                0                0   \n",
       "CelSeq2_Mixture_Sample_A3                 0                0                0   \n",
       "CelSeq2_Mixture_Sample_A4                 0                0                0   \n",
       "...                                     ...              ...              ...   \n",
       "CelSeq2_Mixture_Sample_P20                0                0                0   \n",
       "CelSeq2_Mixture_Sample_P21                0                1                1   \n",
       "CelSeq2_Mixture_Sample_P22                1                0                0   \n",
       "CelSeq2_Mixture_Sample_P23                0                0                0   \n",
       "CelSeq2_Mixture_Sample_P24                0                0                0   \n",
       "\n",
       "                                      9      ...            27264  \\\n",
       "gene_id                     ENSG00000100385  ...  ENSG00000099958   \n",
       "CelSeq2_Mixture_Sample_A1                 0  ...                0   \n",
       "CelSeq2_Mixture_Sample_A2                 0  ...                0   \n",
       "CelSeq2_Mixture_Sample_A3                 0  ...                0   \n",
       "CelSeq2_Mixture_Sample_A4                 0  ...                0   \n",
       "...                                     ...  ...              ...   \n",
       "CelSeq2_Mixture_Sample_P20                0  ...                0   \n",
       "CelSeq2_Mixture_Sample_P21                1  ...                0   \n",
       "CelSeq2_Mixture_Sample_P22                0  ...                1   \n",
       "CelSeq2_Mixture_Sample_P23                0  ...                0   \n",
       "CelSeq2_Mixture_Sample_P24                0  ...                0   \n",
       "\n",
       "                                      27265            27266            27267  \\\n",
       "gene_id                     ENSG00000270987  ENSG00000251463  ENSG00000266709   \n",
       "CelSeq2_Mixture_Sample_A1                 1                0                0   \n",
       "CelSeq2_Mixture_Sample_A2                 0                0                0   \n",
       "CelSeq2_Mixture_Sample_A3                 0                0                0   \n",
       "CelSeq2_Mixture_Sample_A4                 0                0                0   \n",
       "...                                     ...              ...              ...   \n",
       "CelSeq2_Mixture_Sample_P20                1                0                0   \n",
       "CelSeq2_Mixture_Sample_P21                0                0                0   \n",
       "CelSeq2_Mixture_Sample_P22                0                0                0   \n",
       "CelSeq2_Mixture_Sample_P23                0                0                0   \n",
       "CelSeq2_Mixture_Sample_P24                0                0                0   \n",
       "\n",
       "                                      27268            27269            27270  \\\n",
       "gene_id                     ENSG00000237836  ENSG00000157014  ENSG00000231404   \n",
       "CelSeq2_Mixture_Sample_A1                 0                1                0   \n",
       "CelSeq2_Mixture_Sample_A2                 0                0                0   \n",
       "CelSeq2_Mixture_Sample_A3                 0                0                0   \n",
       "CelSeq2_Mixture_Sample_A4                 0                1                0   \n",
       "...                                     ...              ...              ...   \n",
       "CelSeq2_Mixture_Sample_P20                0                2                0   \n",
       "CelSeq2_Mixture_Sample_P21                0                1                0   \n",
       "CelSeq2_Mixture_Sample_P22                0                2                0   \n",
       "CelSeq2_Mixture_Sample_P23                0                0                0   \n",
       "CelSeq2_Mixture_Sample_P24                0                0                0   \n",
       "\n",
       "                                      27271            27272            27273  \n",
       "gene_id                     ENSG00000224934  ENSG00000189157  ENSG00000240498  \n",
       "CelSeq2_Mixture_Sample_A1                 0                0                0  \n",
       "CelSeq2_Mixture_Sample_A2                 0                0                0  \n",
       "CelSeq2_Mixture_Sample_A3                 0                0                0  \n",
       "CelSeq2_Mixture_Sample_A4                 0                0                0  \n",
       "...                                     ...              ...              ...  \n",
       "CelSeq2_Mixture_Sample_P20                0                0                0  \n",
       "CelSeq2_Mixture_Sample_P21                0                0                0  \n",
       "CelSeq2_Mixture_Sample_P22                0                0                0  \n",
       "CelSeq2_Mixture_Sample_P23                0                0                0  \n",
       "CelSeq2_Mixture_Sample_P24                0                0                0  \n",
       "\n",
       "[384 rows x 27274 columns]"
      ]
     },
     "execution_count": 159,
     "metadata": {},
     "output_type": "execute_result"
    }
   ],
   "source": [
    "Data = pd.read_csv('data/GSM3305230_CelSeq2_Mixture_Sample_counts.csv',)\n",
    "Data.T"
   ]
  },
  {
   "cell_type": "code",
   "execution_count": 160,
   "id": "e9c6c6a4",
   "metadata": {},
   "outputs": [
    {
     "data": {
      "text/plain": [
       "(383, 27274)"
      ]
     },
     "execution_count": 160,
     "metadata": {},
     "output_type": "execute_result"
    }
   ],
   "source": [
    "data = np.array(Data.to_numpy().T[1:,],dtype=float)\n",
    "var_names = np.array(Data.to_numpy().T[0,],dtype=str)\n",
    "data.shape"
   ]
  },
  {
   "cell_type": "code",
   "execution_count": 161,
   "id": "af9e93d1",
   "metadata": {},
   "outputs": [
    {
     "name": "stdout",
     "output_type": "stream",
     "text": [
      "s = 0.5798248245606605\n"
     ]
    }
   ],
   "source": [
    "gene_mask = (np.mean(data,axis=0)>0) & (np.var(data,axis=0)>0) \n",
    "X = data[:,gene_mask]\n",
    "cov = np.cov(X,rowvar=False)\n",
    "X_bar = np.mean(X,axis=0)\n",
    "X_var = np.diag(cov)\n",
    "\n",
    "rho = cov/X_bar[:,None]/X_bar[None,:]\n",
    "s = (np.sum(rho)-np.sum(np.diag(rho)))/(len(rho)-1)/len(rho)\n",
    "print('s =',s)"
   ]
  },
  {
   "cell_type": "code",
   "execution_count": 162,
   "id": "3c14dd29",
   "metadata": {},
   "outputs": [
    {
     "data": {
      "text/plain": [
       "<matplotlib.legend.Legend at 0x7fdc30962760>"
      ]
     },
     "execution_count": 162,
     "metadata": {},
     "output_type": "execute_result"
    },
    {
     "data": {
      "image/png": "[encoded data removed]",
      "text/plain": [
       "<Figure size 432x288 with 1 Axes>"
      ]
     },
     "metadata": {
      "needs_background": "light"
     },
     "output_type": "display_data"
    }
   ],
   "source": [
    "s = 0.51\n",
    "\n",
    "matplotlib.rc('font', size=18)\n",
    "eta_0 = -1\n",
    "Ec = 0.04\n",
    "a = 1 + Ec * (s + 1) * (1 + eta_0)\n",
    "plt.axhline(y=s, c='b',label='s='+str(np.around(s,3)))\n",
    "plt.scatter(X_bar, a/X_bar + s,c='r',alpha=1, s=10,label=r'$\\frac{1}{\\mu}$ + s')\n",
    "plt.scatter(X_bar, X_var/X_bar**2,c='k',alpha=1, s=0.1)\n",
    "plt.xlabel(r'$\\mu$',fontsize=24)\n",
    "plt.ylabel(r'$CV^2$',fontsize=24)\n",
    "plt.title(\"CEL-seq2\",fontsize=28)\n",
    "plt.xscale('log')\n",
    "plt.yscale('log')\n",
    "plt.legend(loc='upper right')"
   ]
  },
  {
   "cell_type": "code",
   "execution_count": 163,
   "id": "727d5db2",
   "metadata": {},
   "outputs": [
    {
     "data": {
      "text/plain": [
       "113981.0"
      ]
     },
     "execution_count": 163,
     "metadata": {},
     "output_type": "execute_result"
    }
   ],
   "source": [
    "data.sum(1).max()"
   ]
  },
  {
   "cell_type": "code",
   "execution_count": 164,
   "id": "07b6a34b",
   "metadata": {},
   "outputs": [
    {
     "name": "stderr",
     "output_type": "stream",
     "text": [
      "100%|██████████| 10/10 [00:06<00:00,  1.44it/s]\n"
     ]
    }
   ],
   "source": [
    "import matplotlib.pyplot as plt\n",
    "from math import factorial, exp, log\n",
    "from scipy import integrate, special\n",
    "from tqdm import tqdm\n",
    "\n",
    "def f_func(x,z):\n",
    "    I=len(z)\n",
    "    J=len(x)\n",
    "    z=np.reshape(z,(I,1))\n",
    "    x=np.reshape(x,(1,J))\n",
    "    Z=np.repeat(z,J,axis=1)\n",
    "    X=np.repeat(x,I,axis=0)    \n",
    "    return np.exp(np.log(Z+10**(-10))*X-z-special.gammaln(x+1))\n",
    "\n",
    "x = data.sum(1)\n",
    "\n",
    "# parameters\n",
    "ite_num=10\n",
    "z_range=120000  \n",
    "\n",
    "# initialization\n",
    "n=len(x)\n",
    "dz=1\n",
    "z=np.arange(0,z_range+dz,dz) # here use z to denote the discretized t\n",
    "pi=np.ones_like(z)/z_range\n",
    "z=np.reshape(z,(len(z),1))\n",
    "\n",
    "\n",
    "unique, counts = np.unique(x, return_counts=True)\n",
    "f=f_func(unique,z)\n",
    "L=np.zeros([ite_num,len(unique)])\n",
    "\n",
    "# iteration\n",
    "for i in tqdm(range(ite_num)):  \n",
    "    f_int=integrate.trapz(f*pi[:,None],z,axis=0) \n",
    "    pi=pi*np.sum(counts[None,:]*f/f_int,axis=1)/n\n",
    "    L[i,:]=f_int"
   ]
  },
  {
   "cell_type": "code",
   "execution_count": 172,
   "id": "00a642ee",
   "metadata": {},
   "outputs": [
    {
     "data": {
      "text/plain": [
       "Text(0.5, 1.0, '     total counts distribution')"
      ]
     },
     "execution_count": 172,
     "metadata": {},
     "output_type": "execute_result"
    },
    {
     "data": {
      "image/png": "[encoded data removed]",
      "text/plain": [
       "<Figure size 432x288 with 1 Axes>"
      ]
     },
     "metadata": {
      "needs_background": "light"
     },
     "output_type": "display_data"
    }
   ],
   "source": [
    "plt.hist(data.sum(1),density=True);\n",
    "plt.title('     total counts distribution')"
   ]
  },
  {
   "cell_type": "code",
   "execution_count": 173,
   "id": "8598111c",
   "metadata": {},
   "outputs": [
    {
     "data": {
      "text/plain": [
       "Text(0.5, 1.0, 'read depth distribution')"
      ]
     },
     "execution_count": 173,
     "metadata": {},
     "output_type": "execute_result"
    },
    {
     "data": {
      "image/png": "[encoded data removed]",
      "text/plain": [
       "<Figure size 432x288 with 1 Axes>"
      ]
     },
     "metadata": {
      "needs_background": "light"
     },
     "output_type": "display_data"
    }
   ],
   "source": [
    "plt.scatter(z/x.mean(),pi,s=0.1);\n",
    "plt.title('read depth distribution')"
   ]
  },
  {
   "cell_type": "code",
   "execution_count": 166,
   "id": "5be4ee6a",
   "metadata": {},
   "outputs": [
    {
     "data": {
      "text/plain": [
       "0.5136577009404378"
      ]
     },
     "execution_count": 166,
     "metadata": {},
     "output_type": "execute_result"
    }
   ],
   "source": [
    "m1 = (z[:,0]*pi).sum()\n",
    "m2 = ((z[:,0]-m1)**2*pi).sum()\n",
    "m3 = ((z[:,0]-m1)**3*pi).sum()\n",
    "m4 = ((z[:,0]-m1)**4*pi).sum()\n",
    "m5 = ((z[:,0]-m1)**5*pi).sum()\n",
    "m6 = ((z[:,0]-m1)**6*pi).sum()\n",
    "m2/m1**2"
   ]
  }
 ],
 "metadata": {
  "kernelspec": {
   "display_name": "Python 3 (ipykernel)",
   "language": "python",
   "name": "python3"
  },
  "language_info": {
   "codemirror_mode": {
    "name": "ipython",
    "version": 3
   },
   "file_extension": ".py",
   "mimetype": "text/x-python",
   "name": "python",
   "nbconvert_exporter": "python",
   "pygments_lexer": "ipython3",
   "version": "3.9.12"
  }
 },
 "nbformat": 4,
 "nbformat_minor": 5
}
